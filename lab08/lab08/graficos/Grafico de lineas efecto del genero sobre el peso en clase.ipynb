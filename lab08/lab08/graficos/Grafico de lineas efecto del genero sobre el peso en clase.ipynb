{
 "cells": [
  {
   "cell_type": "code",
   "execution_count": 1,
   "id": "27943298",
   "metadata": {},
   "outputs": [
    {
     "data": {
      "text/html": [
       "<div>\n",
       "<style scoped>\n",
       "    .dataframe tbody tr th:only-of-type {\n",
       "        vertical-align: middle;\n",
       "    }\n",
       "\n",
       "    .dataframe tbody tr th {\n",
       "        vertical-align: top;\n",
       "    }\n",
       "\n",
       "    .dataframe thead th {\n",
       "        text-align: right;\n",
       "    }\n",
       "</style>\n",
       "<table border=\"1\" class=\"dataframe\">\n",
       "  <thead>\n",
       "    <tr style=\"text-align: right;\">\n",
       "      <th></th>\n",
       "      <th>rango_edad</th>\n",
       "      <th>estatura_m</th>\n",
       "      <th>sexo</th>\n",
       "      <th>peso_lbs</th>\n",
       "      <th>curso</th>\n",
       "      <th>peso_kg</th>\n",
       "      <th>IMC</th>\n",
       "    </tr>\n",
       "  </thead>\n",
       "  <tbody>\n",
       "    <tr>\n",
       "      <th>0</th>\n",
       "      <td>18 a 22</td>\n",
       "      <td>1.62</td>\n",
       "      <td>Femenino</td>\n",
       "      <td>114.0</td>\n",
       "      <td>2</td>\n",
       "      <td>51.82</td>\n",
       "      <td>19.74</td>\n",
       "    </tr>\n",
       "    <tr>\n",
       "      <th>1</th>\n",
       "      <td>18 a 22</td>\n",
       "      <td>1.90</td>\n",
       "      <td>Masculino</td>\n",
       "      <td>210.0</td>\n",
       "      <td>2</td>\n",
       "      <td>95.45</td>\n",
       "      <td>26.44</td>\n",
       "    </tr>\n",
       "    <tr>\n",
       "      <th>2</th>\n",
       "      <td>18 a 22</td>\n",
       "      <td>1.75</td>\n",
       "      <td>Masculino</td>\n",
       "      <td>133.0</td>\n",
       "      <td>2</td>\n",
       "      <td>60.45</td>\n",
       "      <td>19.74</td>\n",
       "    </tr>\n",
       "    <tr>\n",
       "      <th>3</th>\n",
       "      <td>18 a 22</td>\n",
       "      <td>1.60</td>\n",
       "      <td>Femenino</td>\n",
       "      <td>130.0</td>\n",
       "      <td>2</td>\n",
       "      <td>59.09</td>\n",
       "      <td>23.08</td>\n",
       "    </tr>\n",
       "    <tr>\n",
       "      <th>4</th>\n",
       "      <td>18 a 22</td>\n",
       "      <td>1.75</td>\n",
       "      <td>Masculino</td>\n",
       "      <td>155.0</td>\n",
       "      <td>2</td>\n",
       "      <td>70.45</td>\n",
       "      <td>23.01</td>\n",
       "    </tr>\n",
       "    <tr>\n",
       "      <th>...</th>\n",
       "      <td>...</td>\n",
       "      <td>...</td>\n",
       "      <td>...</td>\n",
       "      <td>...</td>\n",
       "      <td>...</td>\n",
       "      <td>...</td>\n",
       "      <td>...</td>\n",
       "    </tr>\n",
       "    <tr>\n",
       "      <th>254</th>\n",
       "      <td>18 a 22</td>\n",
       "      <td>1.70</td>\n",
       "      <td>Femenino</td>\n",
       "      <td>150.0</td>\n",
       "      <td>3</td>\n",
       "      <td>68.18</td>\n",
       "      <td>23.59</td>\n",
       "    </tr>\n",
       "    <tr>\n",
       "      <th>255</th>\n",
       "      <td>18 a 22</td>\n",
       "      <td>1.69</td>\n",
       "      <td>Femenino</td>\n",
       "      <td>135.0</td>\n",
       "      <td>3</td>\n",
       "      <td>61.36</td>\n",
       "      <td>21.49</td>\n",
       "    </tr>\n",
       "    <tr>\n",
       "      <th>256</th>\n",
       "      <td>18 a 22</td>\n",
       "      <td>1.76</td>\n",
       "      <td>Masculino</td>\n",
       "      <td>164.0</td>\n",
       "      <td>3</td>\n",
       "      <td>74.55</td>\n",
       "      <td>24.07</td>\n",
       "    </tr>\n",
       "    <tr>\n",
       "      <th>257</th>\n",
       "      <td>18 a 22</td>\n",
       "      <td>1.66</td>\n",
       "      <td>Masculino</td>\n",
       "      <td>140.0</td>\n",
       "      <td>3</td>\n",
       "      <td>63.64</td>\n",
       "      <td>23.09</td>\n",
       "    </tr>\n",
       "    <tr>\n",
       "      <th>258</th>\n",
       "      <td>18 a 22</td>\n",
       "      <td>1.54</td>\n",
       "      <td>Masculino</td>\n",
       "      <td>140.0</td>\n",
       "      <td>3</td>\n",
       "      <td>63.64</td>\n",
       "      <td>26.83</td>\n",
       "    </tr>\n",
       "  </tbody>\n",
       "</table>\n",
       "<p>259 rows × 7 columns</p>\n",
       "</div>"
      ],
      "text/plain": [
       "    rango_edad  estatura_m       sexo  peso_lbs  curso  peso_kg    IMC\n",
       "0      18 a 22        1.62   Femenino     114.0      2    51.82  19.74\n",
       "1      18 a 22        1.90  Masculino     210.0      2    95.45  26.44\n",
       "2      18 a 22        1.75  Masculino     133.0      2    60.45  19.74\n",
       "3      18 a 22        1.60   Femenino     130.0      2    59.09  23.08\n",
       "4      18 a 22        1.75  Masculino     155.0      2    70.45  23.01\n",
       "..         ...         ...        ...       ...    ...      ...    ...\n",
       "254    18 a 22        1.70   Femenino     150.0      3    68.18  23.59\n",
       "255    18 a 22        1.69   Femenino     135.0      3    61.36  21.49\n",
       "256    18 a 22        1.76  Masculino     164.0      3    74.55  24.07\n",
       "257    18 a 22        1.66  Masculino     140.0      3    63.64  23.09\n",
       "258    18 a 22        1.54  Masculino     140.0      3    63.64  26.83\n",
       "\n",
       "[259 rows x 7 columns]"
      ]
     },
     "execution_count": 1,
     "metadata": {},
     "output_type": "execute_result"
    }
   ],
   "source": [
    "# Importado de librerias\n",
    "import pandas as pd\n",
    "from matplotlib import pyplot as plt\n",
    "import numpy as np\n",
    "import statistics\n",
    "from sklearn import linear_model\n",
    "vimc = pd.read_csv(\"vimc.csv\")\n",
    "vimc"
   ]
  },
  {
   "cell_type": "code",
   "execution_count": 37,
   "id": "924b4bfb",
   "metadata": {},
   "outputs": [],
   "source": [
    "# PLOT"
   ]
  },
  {
   "cell_type": "code",
   "execution_count": 40,
   "id": "387b8321",
   "metadata": {},
   "outputs": [
    {
     "data": {
      "text/plain": [
       "[148.36904761904762, 147.8681818181818, 159.13432835820896]"
      ]
     },
     "execution_count": 40,
     "metadata": {},
     "output_type": "execute_result"
    }
   ],
   "source": [
    "# PESO PROMEDIO POR CLASE\n",
    "W1 = vimc[vimc.curso == 1]\n",
    "M1 = np.mean(W1.peso_lbs)\n",
    "\n",
    "W2 = vimc[vimc.curso == 2]\n",
    "M2 = np.mean(W2.peso_lbs)\n",
    "\n",
    "W3 = vimc[vimc.curso == 3]\n",
    "M3 = np.mean(W3.peso_lbs)\n",
    "\n",
    "M = [M1, M2, M3]\n",
    "M"
   ]
  },
  {
   "cell_type": "code",
   "execution_count": 41,
   "id": "00660240",
   "metadata": {},
   "outputs": [
    {
     "data": {
      "text/plain": [
       "[155.54117647058823, 160.95142857142858, 173.10256410256412]"
      ]
     },
     "execution_count": 41,
     "metadata": {},
     "output_type": "execute_result"
    }
   ],
   "source": [
    "# Peso promedio masculino por año\n",
    "wm = vimc[vimc.sexo == \"Masculino\"]\n",
    "wm1 = wm[wm.curso == 1]\n",
    "wm2 = wm[wm.curso == 2]\n",
    "wm3 = wm[wm.curso == 3]\n",
    "mm1 = np.mean(wm1.peso_lbs)\n",
    "mm2 = np.mean(wm2.peso_lbs)\n",
    "mm3 = np.mean(wm3.peso_lbs)\n",
    "MM = [mm1, mm2, mm3]\n",
    "MM"
   ]
  },
  {
   "cell_type": "code",
   "execution_count": 42,
   "id": "e605471b",
   "metadata": {},
   "outputs": [
    {
     "data": {
      "text/plain": [
       "[133.5, 133.09677419354838, 139.67857142857142]"
      ]
     },
     "execution_count": 42,
     "metadata": {},
     "output_type": "execute_result"
    }
   ],
   "source": [
    "# Peso promedio femenino por año\n",
    "wf = vimc[vimc.sexo == \"Femenino\"]\n",
    "\n",
    "wf1 = wf[wf.curso == 1]\n",
    "mf1 = np.mean(wf1.peso_lbs)\n",
    "\n",
    "wf2 = wf[wf.curso == 2]\n",
    "mf2 = np.mean(wf2.peso_lbs)\n",
    "\n",
    "wf3 = wf[wf.curso == 3]\n",
    "mf3 = np.mean(wf3.peso_lbs)\n",
    "\n",
    "MF = [mf1, mf2, mf3]\n",
    "MF"
   ]
  },
  {
   "cell_type": "code",
   "execution_count": 46,
   "id": "1f70aa2e",
   "metadata": {},
   "outputs": [
    {
     "data": {
      "image/png": "[encoded data removed]",
      "text/plain": [
       "<Figure size 432x288 with 1 Axes>"
      ]
     },
     "metadata": {
      "needs_background": "light"
     },
     "output_type": "display_data"
    }
   ],
   "source": [
    "# Grafico de lineas\n",
    "year = [\"Primero\", \"Segundo\", \"Tercero\"]\n",
    "plt.plot(year, MM)\n",
    "plt.plot(year, MF)\n",
    "plt.plot(year, M)\n",
    "plt.legend([\"Hombres\", \"Mujeres\", \"General\"])\n",
    "plt.title(\"Relacion de Peso y Año conforme al Genero\")\n",
    "plt.xlabel(\"Año\")\n",
    "plt.ylabel(\"Peso (lbs)\")\n",
    "plt.show()"
   ]
  },
  {
   "cell_type": "code",
   "execution_count": null,
   "id": "5c41a9ad",
   "metadata": {},
   "outputs": [],
   "source": []
  }
 ],
 "metadata": {
  "kernelspec": {
   "display_name": "Python 3 (ipykernel)",
   "language": "python",
   "name": "python3"
  },
  "language_info": {
   "codemirror_mode": {
    "name": "ipython",
    "version": 3
   },
   "file_extension": ".py",
   "mimetype": "text/x-python",
   "name": "python",
   "nbconvert_exporter": "python",
   "pygments_lexer": "ipython3",
   "version": "3.9.12"
  }
 },
 "nbformat": 4,
 "nbformat_minor": 5
}
